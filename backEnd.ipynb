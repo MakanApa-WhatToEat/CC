{
 "cells": [
  {
   "cell_type": "code",
   "execution_count": null,
   "metadata": {},
   "outputs": [],
   "source": [
    "#Importing Library / Module\n",
    "import io\n",
    "from flask import Flask, Request\n",
    "from PIL import Image\n",
    "import nest_asyncio"
   ]
  },
  {
   "cell_type": "code",
   "execution_count": null,
   "metadata": {},
   "outputs": [],
   "source": [
    "#initiating Flask\n",
    "app = Flask(__name__)"
   ]
  },
  {
   "cell_type": "code",
   "execution_count": null,
   "metadata": {},
   "outputs": [],
   "source": [
    "#Request Predict Return OK For now\n",
    "@app.route(\"/getrecommendation/\", methods =[\"POST\"])\n",
    "def predict():\n",
    "    if not Request.method == \"POST\":\n",
    "        return 404\n",
    "    if Request.files.get(\"image\"):\n",
    "        image_file = Request.files[\"image\"]\n",
    "        # Machine Learning Predict Code\n",
    "\n",
    "\n",
    "\n",
    "        #Result JSON\n",
    "        results_json = {}\n",
    "        return {\"result\" : results_json}\n",
    "    \n",
    "ngrok_tunnel = ngrok.connect(8000)\n",
    "print('Public URL:', ngrok_tunnel.public_url)\n",
    "nest_asyncio.apply()\n",
    "app.run(host=\"0.0.0.0\", port=8000)"
   ]
  }
 ],
 "metadata": {
  "kernelspec": {
   "display_name": "Python 3",
   "language": "python",
   "name": "python3"
  },
  "language_info": {
   "name": "python",
   "version": "3.9.5"
  },
  "orig_nbformat": 4
 },
 "nbformat": 4,
 "nbformat_minor": 2
}
